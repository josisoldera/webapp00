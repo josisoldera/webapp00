{
  "cells": [
    {
      "cell_type": "markdown",
      "metadata": {
        "id": "view-in-github",
        "colab_type": "text"
      },
      "source": [
        "<a href=\"https://colab.research.google.com/github/josisoldera/webapp00/blob/main/22_11_24.ipynb\" target=\"_parent\"><img src=\"https://colab.research.google.com/assets/colab-badge.svg\" alt=\"Open In Colab\"/></a>"
      ]
    },
    {
      "cell_type": "markdown",
      "metadata": {
        "id": "e2_mfJmoCb9H"
      },
      "source": [
        "#ex.05 - aula LP02"
      ]
    },
    {
      "cell_type": "markdown",
      "metadata": {
        "id": "M2d5HQBxFehF"
      },
      "source": []
    },
    {
      "cell_type": "markdown",
      "metadata": {
        "id": "Y2XPHMGlK3MK"
      },
      "source": [
        "#o P tem que ser maiúsculo\n",
        "#não esquecer \"\"\n"
      ]
    },
    {
      "cell_type": "code",
      "execution_count": null,
      "metadata": {
        "colab": {
          "base_uri": "https://localhost:8080/"
        },
        "id": "W4DKBDB-CZhY",
        "outputId": "e0ce99ba-339e-45ed-9242-a791c0ed778f"
      },
      "outputs": [
        {
          "name": "stdout",
          "output_type": "stream",
          "text": [
            "digite valor em polegadas:2\n",
            "50.8\n"
          ]
        }
      ],
      "source": [
        "P = float(input(\"digite valor em polegadas:\"))\n",
        "mm = P * 25.4\n",
        "print (mm)"
      ]
    },
    {
      "cell_type": "markdown",
      "metadata": {
        "id": "SGtEeOSHTW1n"
      },
      "source": [
        "#ex 05 esfera\n",
        "\n",
        "#float aceita 2 ou 2,5 mas usando int (inteiro) não sera aceito\n",
        "#round diminui casas decimais"
      ]
    },
    {
      "cell_type": "code",
      "execution_count": null,
      "metadata": {
        "colab": {
          "base_uri": "https://localhost:8080/"
        },
        "id": "5mF3IIACSuAo",
        "outputId": "f5b1b745-af6d-4b71-cc79-2f41f702400b"
      },
      "outputs": [
        {
          "name": "stdout",
          "output_type": "stream",
          "text": [
            "Programa para Calcular volume da esfera!\n",
            "digite raio:2\n",
            "Volume da esfera =  33.510321638291124\n"
          ]
        }
      ],
      "source": [
        "from math import pi\n",
        "#vou solicitar inicialmente o raio\n",
        "print(\"Programa para Calcular volume da esfera!\")\n",
        "raio = float(input(\"digite raio:\"))\n",
        "v = (4/3) * pi * (raio**3)\n",
        "print(\"Volume da esfera = \", v)\n"
      ]
    },
    {
      "cell_type": "markdown",
      "metadata": {
        "id": "VeHXr-85Pk6h"
      },
      "source": [
        "#Exercício para praticar 01\n",
        "#não esquecr a multiplicação"
      ]
    },
    {
      "cell_type": "code",
      "execution_count": null,
      "metadata": {
        "colab": {
          "base_uri": "https://localhost:8080/"
        },
        "id": "HAhbxAEDPepa",
        "outputId": "77495c9f-410f-42f0-d918-fdc3d52c36e0"
      },
      "outputs": [
        {
          "name": "stdout",
          "output_type": "stream",
          "text": [
            "digitar graus em fahrenheit:32\n",
            "programa para calcular em graus!\n",
            "0.0\n"
          ]
        }
      ],
      "source": [
        "F = float(input(\"digitar graus em fahrenheit:\"))\n",
        "print(\"programa para calcular em graus!\")\n",
        "C = (5/9)*(F-32)\n",
        "print (C)\n"
      ]
    },
    {
      "cell_type": "markdown",
      "metadata": {
        "id": "ycYg9FyXWdx0"
      },
      "source": [
        "#ex 04"
      ]
    },
    {
      "cell_type": "code",
      "execution_count": null,
      "metadata": {
        "colab": {
          "base_uri": "https://localhost:8080/"
        },
        "id": "iBH249ADX09e",
        "outputId": "89c1d2bc-40b1-4715-b07a-2f5033822ff7"
      },
      "outputs": [
        {
          "name": "stdout",
          "output_type": "stream",
          "text": [
            "digite a sua idade: 16\n",
            "você pode votar.\n"
          ]
        }
      ],
      "source": [
        "idade = int(input(\"digite a sua idade: \"))\n",
        "if 16 <= idade < 70:\n",
        "    print (\"você pode votar.\")\n",
        "else:\n",
        "    print (\"você não pode votar.\")\n"
      ]
    },
    {
      "cell_type": "markdown",
      "metadata": {
        "id": "lMB_nERnM8KW"
      },
      "source": [
        "usar o tab como espaço se necessário\n",
        "ex: instrucao 1\n",
        "    instrucao 2\n",
        "(precisa eSTAR alinhado para o programa ler)\n",
        "checar (==) soma(=)\n",
        "condiçao (????)\n",
        "f= formate\n",
        "váriavel dentro daa{}"
      ]
    },
    {
      "cell_type": "code",
      "execution_count": null,
      "metadata": {
        "colab": {
          "base_uri": "https://localhost:8080/"
        },
        "id": "yPxFqWxIQCqI",
        "outputId": "db65ba5c-2c29-4ded-fefd-5fcf8887f17b"
      },
      "outputs": [
        {
          "name": "stdout",
          "output_type": "stream",
          "text": [
            "Digite um número inteiro: 22\n",
            " é par.\n"
          ]
        }
      ],
      "source": [
        "numero = int(input(\"Digite um número inteiro: \"))\n",
        "if numero % 2 == 0:\n",
        "  print(f\" é par.\")\n",
        "else:\n",
        "  print(f\"é impar.\")"
      ]
    },
    {
      "cell_type": "markdown",
      "metadata": {
        "id": "_hZ39W8KV3-v"
      },
      "source": [
        "raiz quadrada"
      ]
    },
    {
      "cell_type": "code",
      "execution_count": null,
      "metadata": {
        "colab": {
          "base_uri": "https://localhost:8080/"
        },
        "id": "89tG3kmrV4Ow",
        "outputId": "e5205810-219c-4cb0-d8e4-e533c921c8de"
      },
      "outputs": [
        {
          "name": "stdout",
          "output_type": "stream",
          "text": [
            "digite um número: 4\n",
            "A raiz quadrada de 4.0 é 2.00.\n"
          ]
        }
      ],
      "source": [
        "import math\n",
        "numero = float(input(\"digite um número: \"))\n",
        "if numero >= 0:\n",
        "#verifica se o número é maior ou igual a zero\n",
        "  raiz_quadrada = math.sqrt(numero)\n",
        "  print(f\"A raiz quadrada de {numero} é {raiz_quadrada:.2f}.\")\n",
        "else:\n",
        "  print(f\"não existe raiz quadrada para este número.\")"
      ]
    },
    {
      "cell_type": "markdown",
      "metadata": {
        "id": "QpRhrxLBMtst"
      },
      "source": [
        "O código está tentando acessar uma variável chamada largura, mas ela não está definida. Observando as variáveis globais, você definiu uma variável chamada Largura. Python diferencia maiúsculas de minúsculas, então ele está tratando largura e Largura como variáveis diferentes.\n",
        "\n",
        "Sugestões de Mudanças\n",
        "\n",
        "comprimento = float(input(\"Digite o comprimento da camisa em centímetros: \"))\n",
        "largura = float(input(\"Digite a largura da camisa em centímetros: \")) # Largura foi alterada para largura\n",
        "\n",
        "Use code with caution\n",
        "**Basicamente, o erro ocorreu porque você usou Largura (com L maiúsculo) na definição da variável, mas largura (com l minúsculo) na condição if. Alterando Largura para largura na linha 2, o código funcionará corretamente.**"
      ]
    },
    {
      "cell_type": "code",
      "execution_count": null,
      "metadata": {
        "colab": {
          "base_uri": "https://localhost:8080/"
        },
        "id": "meLEtjX2bp_d",
        "outputId": "3f90ce9b-0f64-4adf-a4d0-38d2f6291e55"
      },
      "outputs": [
        {
          "name": "stdout",
          "output_type": "stream",
          "text": [
            "Digite o comprimento da camisa em centímetros: 72\n",
            "digite a largura da camisa em centímetros: 50\n",
            "O tamanho da camisa é G.\n"
          ]
        }
      ],
      "source": [
        "comprimento = float(input(\"Digite o comprimento da camisa em centímetros: \"))\n",
        "largura = float(input(\"digite a largura da camisa em centímetros: \"))\n",
        "\n",
        "if comprimento <= 66 and largura <= 50:\n",
        "   Tamanho = \"pp\"\n",
        "elif comprimento <= 65 and largura <= 48:\n",
        "   Tamanho = \"P\"\n",
        "elif comprimento <= 70 and largura <= 51:\n",
        "   Tamanho = \"M\"\n",
        "elif comprimento <= 75 and largura <= 54:\n",
        "   Tamanho = \"G\"\n",
        "elif comprimento <= 80 and largura <= 57:\n",
        "   Tamanho = \"GG\"\n",
        "else:\n",
        "   Tamanho = \"XGG\"\n",
        "print(f\"O tamanho da camisa é {Tamanho}.\")\n"
      ]
    },
    {
      "cell_type": "markdown",
      "metadata": {
        "id": "8rdqdXiJKaZW"
      },
      "source": [
        "ex. extras 01\n",
        "usar % e ver as bolinhas como \"RESTO\""
      ]
    },
    {
      "cell_type": "code",
      "execution_count": null,
      "metadata": {
        "colab": {
          "base_uri": "https://localhost:8080/"
        },
        "id": "pq60D8HCKbEm",
        "outputId": "2000cc29-db76-455c-a9fa-c427dbb2f360"
      },
      "outputs": [
        {
          "name": "stdout",
          "output_type": "stream",
          "text": [
            "digite um numero:7\n",
            "resto da divisão de x por 3:\n",
            "nao multiplo\n"
          ]
        }
      ],
      "source": [
        "x = int(input(\"digite um numero:\"))\n",
        "print(\"resto da divisão de x por 3:\")\n",
        "r = x % 3\n",
        "if (r == 0):\n",
        "  print(\"multiplo\")\n",
        "else:\n",
        "  print(\"nao multiplo\")"
      ]
    },
    {
      "cell_type": "markdown",
      "metadata": {
        "id": "DtabxEHGX45j"
      },
      "source": [
        "Dadas as notas a e b de um aluno, com pesos\n",
        "respectivamente 2 e 3; pede-se elaborar um programa em Python para calcular e exibir\n",
        "a média ponderada do aluno, verificar e informar, junto ao valor da sua média, se foi\n",
        "aprovado ou não (OBS: Considere aprovado se obtiver média igual ou superior a 5).>= 5\n",
        "\n",
        "#usando float pq pode ser 5 pu 5.5!"
      ]
    },
    {
      "cell_type": "code",
      "execution_count": null,
      "metadata": {
        "colab": {
          "base_uri": "https://localhost:8080/"
        },
        "id": "Hp_dHAaBX5Cb",
        "outputId": "1c92fb92-5ec5-498e-c7f2-bad8a87261c9"
      },
      "outputs": [
        {
          "name": "stdout",
          "output_type": "stream",
          "text": [
            "digite a primeira nota:2\n",
            "digite a segunda nota:3\n",
            "reprovado\n"
          ]
        }
      ],
      "source": [
        "a = float(input(\"digite a primeira nota:\"))\n",
        "b = float(input(\"digite a segunda nota:\"))\n",
        "peso1 = 2\n",
        "peso2 = 3\n",
        "media = (a * peso1 + b * peso2) / (peso1 + peso2)\n",
        "if media >= 5:\n",
        "  print(\"aprovado\")\n",
        "else:\n",
        "  print(\"reprovado\")"
      ]
    },
    {
      "cell_type": "markdown",
      "metadata": {
        "id": "UekSxbi_b_1d"
      },
      "source": [
        "Dado o algoritmo a seguir, elabore o código python do programa em questão:\n",
        "Início\n",
        "Leia os três valores: a, b e c.\n",
        "Compare os valores:\n",
        "Se a é menor ou igual a b e a é menor ou igual a c, então\n",
        "a é o menor valor.\n",
        "Caso contrário, se b é menor ou igual a a e b é menor ou igual a c, então\n",
        "b é o menor valor.\n",
        "Caso contrário,\n",
        "c é o menor valor.\n",
        "Exiba o menor valor."
      ]
    },
    {
      "cell_type": "code",
      "execution_count": null,
      "metadata": {
        "colab": {
          "base_uri": "https://localhost:8080/"
        },
        "id": "VtqL9hPkb_-1",
        "outputId": "4e6fe172-6243-48fc-ede5-f6195b2892ce"
      },
      "outputs": [
        {
          "name": "stdout",
          "output_type": "stream",
          "text": [
            "valor de a:2\n",
            "valor de b:3\n",
            "valor de c:4\n",
            "2.0\n"
          ]
        }
      ],
      "source": [
        "a = float(input(\"valor de a:\"))\n",
        "b = float(input(\"valor de b:\"))\n",
        "c = float(input(\"valor de c:\"))\n",
        "if a <= b and a <= c:\n",
        "  print(a)\n",
        "elif b <= a and b <= c:\n",
        "  print(b)\n",
        "else:\n",
        "  print(c)"
      ]
    },
    {
      "cell_type": "markdown",
      "metadata": {
        "id": "ae1y6X3ZWwK6"
      },
      "source": [
        "contar ate 9 com FOR"
      ]
    },
    {
      "cell_type": "code",
      "execution_count": null,
      "metadata": {
        "colab": {
          "base_uri": "https://localhost:8080/"
        },
        "id": "iKXGXEs9W0WC",
        "outputId": "6cc8269b-71e2-4ca5-a419-93eba0b8bcc7"
      },
      "outputs": [
        {
          "name": "stdout",
          "output_type": "stream",
          "text": [
            "0\n",
            "1\n",
            "2\n",
            "3\n",
            "4\n",
            "5\n",
            "6\n",
            "7\n",
            "8\n",
            "9\n"
          ]
        }
      ],
      "source": [
        "for i in range (10):\n",
        "  print(i)\n"
      ]
    },
    {
      "cell_type": "code",
      "execution_count": null,
      "metadata": {
        "colab": {
          "base_uri": "https://localhost:8080/"
        },
        "id": "_IcChfgNXL2N",
        "outputId": "bb032640-6e86-450b-c485-da278dd810ad"
      },
      "outputs": [
        {
          "name": "stdout",
          "output_type": "stream",
          "text": [
            "0\n",
            "1\n",
            "2\n",
            "3\n",
            "4\n",
            "5\n",
            "6\n",
            "7\n",
            "8\n",
            "9\n"
          ]
        }
      ],
      "source": [
        "for i in range (0,10,1):\n",
        "  print(i)\n",
        "\n"
      ]
    },
    {
      "cell_type": "code",
      "execution_count": null,
      "metadata": {
        "colab": {
          "base_uri": "https://localhost:8080/",
          "height": 106
        },
        "id": "u35tv4SKXaOX",
        "outputId": "425e283e-c868-44c0-f574-b95a478036d6"
      },
      "outputs": [
        {
          "ename": "SyntaxError",
          "evalue": "incomplete input (<ipython-input-9-bb66e2b834f8>, line 2)",
          "output_type": "error",
          "traceback": [
            "\u001b[0;36m  File \u001b[0;32m\"<ipython-input-9-bb66e2b834f8>\"\u001b[0;36m, line \u001b[0;32m2\u001b[0m\n\u001b[0;31m    \u001b[0m\n\u001b[0m    ^\u001b[0m\n\u001b[0;31mSyntaxError\u001b[0m\u001b[0;31m:\u001b[0m incomplete input\n"
          ]
        }
      ],
      "source": [
        "for co in range (0,12,2):\n"
      ]
    },
    {
      "cell_type": "markdown",
      "metadata": {
        "id": "6__God6CXwxI"
      },
      "source": [
        "usando WHILE"
      ]
    },
    {
      "cell_type": "code",
      "execution_count": null,
      "metadata": {
        "colab": {
          "base_uri": "https://localhost:8080/"
        },
        "id": "heNTLLXQXzHZ",
        "outputId": "b9fde105-89b1-4bec-b86f-3ae5d8419bee"
      },
      "outputs": [
        {
          "name": "stdout",
          "output_type": "stream",
          "text": [
            "0\n",
            "1\n",
            "2\n",
            "3\n",
            "4\n",
            "5\n",
            "6\n",
            "7\n",
            "8\n",
            "9\n"
          ]
        }
      ],
      "source": [
        "i=0\n",
        "while i<10:\n",
        "  print(i)\n",
        "  i=i+1\n"
      ]
    },
    {
      "cell_type": "markdown",
      "metadata": {
        "id": "KDrjFCMZZG2j"
      },
      "source": []
    },
    {
      "cell_type": "code",
      "execution_count": null,
      "metadata": {
        "colab": {
          "base_uri": "https://localhost:8080/"
        },
        "id": "6qKuL1j_ZHfz",
        "outputId": "ee6cc429-d77b-41ec-ac98-fd5653cfd0f7"
      },
      "outputs": [
        {
          "name": "stdout",
          "output_type": "stream",
          "text": [
            "digite valor inteiro entre 0 e 25:35\n",
            "valor invalido, por favor,digite valor inteiro entre 0 e 25:10\n",
            "valor válido:\n"
          ]
        }
      ],
      "source": [
        "valor = int(input(\"digite valor inteiro entre 0 e 25:\"))\n",
        "while valor <0 or valor >25:\n",
        " valor = int(input(\"valor invalido, por favor,digite valor inteiro entre 0 e 25:\"))\n",
        "print (\"valor válido:\")\n"
      ]
    },
    {
      "cell_type": "code",
      "execution_count": null,
      "metadata": {
        "id": "c5mPnA_XeiRx"
      },
      "outputs": [],
      "source": [
        "while True:\n",
        "    resposta = input(\"deseja realizar a soma de 2 variáveis? (S/N):\").strip().upper()\n",
        "    if resposta == 'S':\n",
        "        var1 = float(input(\"digite o primeiro variavel:\"))\n",
        "        var2 = float(input(\"digite o segundo variavel:\"))\n",
        "        soma = var1 + var2\n",
        "        print(f\"A soma de {var1} e {var2} é: {soma:.2f}\\n\")\n",
        "    elif resposta == 'N':\n",
        "        print(\"operação finalizada.\")\n",
        "        break\n",
        "    else:\n",
        "        print(\"resposta inválida, Por favor tente novamente, digite 'S' para sim ou 'N' para não.\\n\")"
      ]
    },
    {
      "cell_type": "markdown",
      "metadata": {
        "id": "dlS747_3AqHp"
      },
      "source": []
    },
    {
      "cell_type": "code",
      "execution_count": null,
      "metadata": {
        "id": "6PxSfeFPAqdg"
      },
      "outputs": [],
      "source": [
        "inicio\n",
        "para i de 1 até 25 faça:\n",
        "imprimir i:\n",
        "fim se\n",
        "fim  para\n",
        "fim\n",
        "\n",
        "for i in range (1,26):\n",
        "  if se i % 2 == 0:\n",
        "    print(i)"
      ]
    },
    {
      "cell_type": "code",
      "execution_count": null,
      "metadata": {
        "colab": {
          "base_uri": "https://localhost:8080/",
          "height": 106
        },
        "id": "jrX2ONejgYYF",
        "outputId": "d22dba96-0a5c-4d0a-ebab-a14d4a2820f9"
      },
      "outputs": [
        {
          "ename": "SyntaxError",
          "evalue": "invalid syntax (<ipython-input-1-53e1baf6a35b>, line 1)",
          "output_type": "error",
          "traceback": [
            "\u001b[0;36m  File \u001b[0;32m\"<ipython-input-1-53e1baf6a35b>\"\u001b[0;36m, line \u001b[0;32m1\u001b[0m\n\u001b[0;31m    4.\tInicio\u001b[0m\n\u001b[0m      \t^\u001b[0m\n\u001b[0;31mSyntaxError\u001b[0m\u001b[0;31m:\u001b[0m invalid syntax\n"
          ]
        }
      ],
      "source": [
        "4.\tInicio\n",
        "O usuário deseja calcular a media  (resposta)\n",
        "Se reposta for sim entao\n",
        "  inserir valor1 e valor2\n",
        "  calcular média (valor1+valor2 / 2)\n",
        "imprimir média\n",
        "fimse\n",
        "enquanto a resposta for sim\n",
        "fim\n",
        "\n",
        "CÓDIGO:\n",
        "\n",
        "while True:\n",
        " resposta = input(\"deseja calcular a média? (sim/não): \").strip().lower()\n",
        " if respost == \"sim\":\n",
        "  valor1 = float(input(\"digite o primeiro valor:\"))\n",
        "  valor2 = float(input(\"digite o segundo valor:\"))\n",
        "  media = (valor1 + valor2) / 2\n",
        "  print(f\" a média aritimética de {valor1} e {valor2} é: {media:.2f}\")\n",
        " else:\n",
        "  print(\"operação finalizada.\")\n",
        "  break\n",
        "\n",
        "\n"
      ]
    },
    {
      "cell_type": "code",
      "execution_count": null,
      "metadata": {
        "colab": {
          "base_uri": "https://localhost:8080/"
        },
        "id": "o1yGRjkNiwGt",
        "outputId": "98f89ac8-c256-4c58-9eb2-056cdf4a3265"
      },
      "outputs": [
        {
          "name": "stdout",
          "output_type": "stream",
          "text": [
            "2\n",
            "4\n",
            "6\n",
            "8\n",
            "10\n",
            "12\n",
            "14\n",
            "16\n",
            "18\n",
            "20\n",
            "22\n",
            "24\n"
          ]
        }
      ],
      "source": [
        "for i in range (1,26):\n",
        "  if i % 2 == 0:\n",
        "    print(i)"
      ]
    },
    {
      "cell_type": "markdown",
      "metadata": {
        "id": "PCi9qYkqFhqY"
      },
      "source": [
        "trabalho"
      ]
    },
    {
      "cell_type": "code",
      "execution_count": null,
      "metadata": {
        "colab": {
          "base_uri": "https://localhost:8080/"
        },
        "id": "LE-NNEURFjIJ",
        "outputId": "739481bf-c7fc-4e51-838c-dde354f20867"
      },
      "outputs": [
        {
          "name": "stdout",
          "output_type": "stream",
          "text": [
            "Produto Produto A adicionado ao sistema.\n",
            "Produto Produto B adicionado ao sistema.\n",
            "Ordem de produção para 50 unidades de Produto A criada com prazo 10 dias.\n",
            "Ordem de produção para 25 unidades de Produto B criada com prazo 5 dias.\n",
            "Ordem de 50 unidades de Produto A não concluída. Prazo: 10 dias\n",
            "Ordem de 25 unidades de Produto B não concluída. Prazo: 5 dias\n"
          ]
        }
      ],
      "source": [
        "# Classe para o produto\n",
        "class Produto:\n",
        "    def _init_(self, nome, quantidade_estoque):\n",
        "        self.nome = nome\n",
        "        self.quantidade_estoque = quantidade_estoque\n",
        "\n",
        "    def atualizar_estoque(self, quantidade):\n",
        "        self.quantidade_estoque += quantidade\n",
        "        print(f\"Estoque de {self.nome} atualizado para {self.quantidade_estoque} unidades.\")\n",
        "\n",
        "# Classe para ordens de produção\n",
        "class OrdemProducao:\n",
        "    def _init_(self, produto, quantidade, prazo):\n",
        "        self.produto = produto\n",
        "        self.quantidade = quantidade\n",
        "        self.prazo = prazo\n",
        "        self.concluida = False\n",
        "\n",
        "    def iniciar_producao(self):\n",
        "        if self.produto.quantidade_estoque >= self.quantidade:\n",
        "            self.produto.atualizar_estoque(-self.quantidade)\n",
        "            self.concluida = True\n",
        "            print(f\"Produção de {self.quantidade} unidades de {self.produto.nome} iniciada.\")\n",
        "        else:\n",
        "            print(f\"Estoque insuficiente para produzir {self.quantidade} unidades de {self.produto.nome}.\")\n",
        "\n",
        "    def status(self):\n",
        "        return f\"Ordem de {self.quantidade} unidades de {self.produto.nome} {'concluída' if self.concluida else 'não concluída'}. Prazo: {self.prazo}\"\n",
        "\n",
        "# Controle de produção\n",
        "class PCP:\n",
        "    def _init_(self):\n",
        "        self.produtos = []\n",
        "        self.ordens = []\n",
        "\n",
        "    def adicionar_produto(self, nome, quantidade_estoque):\n",
        "        produto = Produto(nome, quantidade_estoque)\n",
        "        self.produtos.append(produto)\n",
        "        print(f\"Produto {nome} adicionado ao sistema.\")\n",
        "\n",
        "    def criar_ordem_producao(self, nome_produto, quantidade, prazo):\n",
        "        for produto in self.produtos:\n",
        "            if produto.nome == nome_produto:\n",
        "                ordem = OrdemProducao(produto, quantidade, prazo)\n",
        "                self.ordens.append(ordem)\n",
        "                print(f\"Ordem de produção para {quantidade} unidades de {nome_produto} criada com prazo {prazo}.\")\n",
        "                return\n",
        "        print(f\"Produto {nome_produto} não encontrado.\")\n",
        "\n",
        "    def verificar_ordens(self):\n",
        "        for ordem in self.ordens:\n",
        "            print(ordem.status())\n",
        "\n",
        "# Exemplo de uso\n",
        "# Classe para o produto\n",
        "class Produto:\n",
        "    def __init__(self, nome, quantidade_estoque):\n",
        "        self.nome = nome\n",
        "        self.quantidade_estoque = quantidade_estoque\n",
        "\n",
        "    def atualizar_estoque(self, quantidade):\n",
        "        self.quantidade_estoque += quantidade\n",
        "        print(f\"Estoque de {self.nome} atualizado para {self.quantidade_estoque} unidades.\")\n",
        "\n",
        "# Classe para ordens de produção\n",
        "class OrdemProducao:\n",
        "    def __init__(self, produto, quantidade, prazo):\n",
        "        self.produto = produto\n",
        "        self.quantidade = quantidade\n",
        "        self.prazo = prazo\n",
        "\n",
        "        self.concluida = False\n",
        "\n",
        "    def iniciar_producao(self):\n",
        "        if self.produto.quantidade_estoque >= self.quantidade:\n",
        "            self.produto.atualizar_estoque(-self.quantidade)\n",
        "            self.concluida = True\n",
        "            print(f\"Produção de {self.quantidade} unidades de {self.produto.nome} iniciada.\")\n",
        "        else:\n",
        "            print(f\"Estoque insuficiente para produzir {self.quantidade} unidades de {self.produto.nome}.\")\n",
        "\n",
        "    def status(self):\n",
        "        return f\"Ordem de {self.quantidade} unidades de {self.produto.nome} {'concluída' if self.concluida else 'não concluída'}. Prazo: {self.prazo}\"\n",
        "\n",
        "# Controle de produção\n",
        "class PCP:\n",
        "    def __init__(self):\n",
        "        self.produtos = []\n",
        "        self.ordens = []\n",
        "\n",
        "    def adicionar_produto(self, nome, quantidade_estoque):\n",
        "        produto = Produto(nome, quantidade_estoque)\n",
        "        self.produtos.append(produto)\n",
        "        print(f\"Produto {nome} adicionado ao sistema.\")\n",
        "\n",
        "    def criar_ordem_producao(self, nome_produto, quantidade, prazo):\n",
        "        for produto in self.produtos:\n",
        "            if produto.nome == nome_produto:\n",
        "                ordem = OrdemProducao(produto, quantidade, prazo)\n",
        "                self.ordens.append(ordem)\n",
        "                print(f\"Ordem de produção para {quantidade} unidades de {nome_produto} criada com prazo {prazo}.\")\n",
        "                return\n",
        "        print(f\"Produto {nome_produto} não encontrado.\")\n",
        "\n",
        "    def verificar_ordens(self):\n",
        "        for ordem in self.ordens:\n",
        "            print(ordem.status())\n",
        "# Exemplo de uso\n",
        "pcp = PCP()\n",
        "pcp.adicionar_produto(\"Produto A\", 100)\n",
        "pcp.adicionar_produto(\"Produto B\", 50)\n",
        "pcp.criar_ordem_producao(\"Produto A\", 50, \"10 dias\")\n",
        "pcp.criar_ordem_producao(\"Produto B\", 25, \"5 dias\")\n",
        "pcp.verificar_ordens()\n"
      ]
    },
    {
      "cell_type": "markdown",
      "metadata": {
        "id": "9cwMaD4u2LtG"
      },
      "source": [
        "**nSEGUNDA OPÇÃO DE TRABALHO**"
      ]
    },
    {
      "cell_type": "code",
      "execution_count": null,
      "metadata": {
        "colab": {
          "base_uri": "https://localhost:8080/",
          "height": 110
        },
        "id": "gD8tG8CB2KzN",
        "outputId": "be71bb16-0d60-4cd7-fbfc-689bbbe957be"
      },
      "outputs": [
        {
          "ename": "IndentationError",
          "evalue": "expected an indented block after 'if' statement on line 18 (<ipython-input-3-a5ad39894ca6>, line 19)",
          "output_type": "error",
          "traceback": [
            "\u001b[0;36m  File \u001b[0;32m\"<ipython-input-3-a5ad39894ca6>\"\u001b[0;36m, line \u001b[0;32m19\u001b[0m\n\u001b[0;31m    def exibir_menu():\u001b[0m\n\u001b[0m                      ^\u001b[0m\n\u001b[0;31mIndentationError\u001b[0m\u001b[0;31m:\u001b[0m expected an indented block after 'if' statement on line 18\n"
          ]
        }
      ],
      "source": [
        "def exibir_menu():\n",
        "    print(\"\\nMenu PCP:\")\n",
        "    print(\"1. Adicionar Produto\")\n",
        "    print(\"2. Atualizar Produção\")\n",
        "    print(\"3. Gerar Relatório\")\n",
        "    print(\"4. Sair\")\n",
        "    print()\n",
        "\n",
        "# Lista para armazenar dados da produção\n",
        "produtos = []\n",
        "quantidades_planejadas = []\n",
        "quantidades_produzidas = []\n",
        "\n",
        "while True:\n",
        "    exibir_menu()\n",
        "    opcao = input(\"Escolha uma opção: \")\n",
        "\n",
        "    if opcao == \"1\":\n",
        "def exibir_menu():\n",
        "    print(\"\\nMenu PCP:\")\n",
        "    print(\"1. Adicionar Produto\")\n",
        "    print(\"2. Atualizar Produção\")\n",
        "    print(\"3. Gerar Relatório\")\n",
        "    print(\"4. Sair\")\n",
        "    print()\n",
        "\n",
        "# Lista para armazenar dados da produção\n",
        "produtos = []\n",
        "quantidades_planejadas = []\n",
        "quantidades_produzidas = []\n",
        "\n",
        "while True:\n",
        "    exibir_menu()\n",
        "    opcao = input(\"Escolha uma opção: \")\n",
        "\n",
        "    if opcao == \"1\":\n",
        "        # Adicionar Produto\n",
        "        produto = input(\"Digite o nome do produto: \").strip()\n",
        "        if produto in produto:"
      ]
    },
    {
      "cell_type": "code",
      "execution_count": null,
      "metadata": {
        "colab": {
          "base_uri": "https://localhost:8080/",
          "height": 110
        },
        "id": "vUXM4SRv3lk0",
        "outputId": "ff7fb71e-31b3-485d-b3a6-21410d3ce667"
      },
      "outputs": [
        {
          "ename": "IndentationError",
          "evalue": "unindent does not match any outer indentation level (<tokenize>, line 114)",
          "output_type": "error",
          "traceback": [
            "\u001b[0;36m  File \u001b[0;32m\"<tokenize>\"\u001b[0;36m, line \u001b[0;32m114\u001b[0m\n\u001b[0;31m    elif opcao == \"3\":\u001b[0m\n\u001b[0m    ^\u001b[0m\n\u001b[0;31mIndentationError\u001b[0m\u001b[0;31m:\u001b[0m unindent does not match any outer indentation level\n"
          ]
        }
      ],
      "source": [
        "def exibir_menu():\n",
        "    print(\"\\nMenu PCP:\")\n",
        "    print(\"1. Adicionar Produto\")\n",
        "    print(\"2. Atualizar Produção\")\n",
        "    print(\"3. Gerar Relatório\")\n",
        "    print(\"4. Sair\")\n",
        "    print()\n",
        "\n",
        "# Lista para armazenar dados da produção\n",
        "produtos = []\n",
        "quantidades_planejadas = []\n",
        "quantidades_produzidas = []\n",
        "\n",
        "while True:\n",
        "    exibir_menu()\n",
        "    opcao = input(\"Escolha uma opção: \")\n",
        "\n",
        "    if opcao == \"1\":\n",
        "        # Adicionar Produto\n",
        "        produto = input(\"Digite o nome do produto: \").strip()\n",
        "        if produto in produtos:  # Verifica se o produto já existe\n",
        "            print(\"Produto já cadastrado.\")\n",
        "        else:\n",
        "            produtos.append(produto)\n",
        "            quantidades_planejadas.append(0)  # Inicializa a quantidade planejada como 0\n",
        "            quantidades_produzidas.append(0)  # Inicializa a quantidade produzida como 0\n",
        "            print(f\"Produto {produto} adicionado com sucesso!\")\n",
        "    elif opcao == \"2\":\n",
        "        # Atualizar Produção (implementar lógica aqui)\n",
        "        pass\n",
        "    elif opcao == \"3\":\n",
        "        # Gerar Relatório (implementar lógica aqui)\n",
        "        pass\n",
        "    elif opcao == \"4\":\n",
        "        print(\"Saindo do sistema...\")\n",
        "        break\n",
        "    else:\n",
        "        print(\"Opção inválida. Tente novamente.\")\n",
        "\n",
        "        if produto in produtos:\n",
        "            print(\"Este produto já foi adicionado.\")\n",
        "        else:\n",
        "            quantidade_planejada = int(input(\"Digite a quantidade planejada: \"))\n",
        "            produtos.append(produto)\n",
        "            quantidades_planejadas.append(quantidade_planejada)\n",
        "            quantidades_produzidas.append(0)  # Inicialmente, nada produzido\n",
        "```python\n",
        "def exibir_menu():\n",
        "    print(\"\\nMenu PCP:\")\n",
        "    print(\"1. Adicionar Produto\")\n",
        "    print(\"2. Atualizar Produção\")\n",
        "    print(\"3. Gerar Relatório\")\n",
        "    print(\"4. Sair\")\n",
        "    print()\n",
        "\n",
        "# Lista para armazenar dados da produção\n",
        "produtos = []\n",
        "quantidades_planejadas = []\n",
        "quantidades_produzidas = []\n",
        "\n",
        "while True:\n",
        "    exibir_menu()\n",
        "    opcao = input(\"Escolha uma opção: \")\n",
        "\n",
        "    if opcao == \"1\":\n",
        "        # Adicionar Produto\n",
        "        produto = input(\"Digite o nome do produto: \").strip()\n",
        "        if produto in produtos:  # Verifica se o produto já existe\n",
        "            print(\"Produto já cadastrado.\")\n",
        "        else:\n",
        "            quantidade_planejada = int(input(\"Digite a quantidade planejada: \"))\n",
        "            produtos.append(produto)\n",
        "            quantidades_planejadas.append(quantidade_planejada)\n",
        "            quantidades_produzidas.append(0)  # Inicialmente, nada produzido\n",
        "            print(f\"Produto '{produto}' adicionado com sucesso!\")\n",
        "\n",
        "    elif opcao == \"2\":\n",
        "        # Atualizar Produção\n",
        "        produto = input(\"Digite o nome do produto para atualizar a produção: \").strip()\n",
        "        if produto in produtos:\n",
        "            indice = produtos.index(produto)\n",
        "            producao_realizada = int(input(\"Digite a quantidade produzida: \"))\n",
        "            quantidades_produzidas[indice] += producao_realizada\n",
        "            print(f\"Produção do produto '{produto}' atualizada para {quantidades_produzidas[indice]}.\")\n",
        "        else:\n",
        "            print(\"Produto não encontrado.\")\n",
        "\n",
        "    elif opcao == \"3\":\n",
        "        # Gerar Relatório\n",
        "        print(\"\\nRelatório de Produção:\")\n",
        "        print(f\"{'Produto':<15}{'Planejado':<10}{'Produzido':<10}{'Saldo':<10}\")\n",
        "        print(\"-\" * 45)\n",
        "        for i in range(len(produtos)):\n",
        "            saldo = quantidades_planejadas[i] - quantidades_produzidas[i]\n",
        "            print(f\"{produtos[i]:<15}{quantidades_planejadas[i]:<10}{quantidades_produzidas[i]:<10}{saldo:<10}\")\n",
        "        print(\"-\" * 45)\n",
        "\n",
        "    elif opcao == \"4\":\n",
        "        # Sair do programa\n",
        "        print(\"Encerrando o programa PCP. Até mais!\")\n",
        "        break\n",
        "\n",
        "    else:\n",
        "        print(\"Opção inválida. Tente novamente.\")\n",
        "```\n",
        "        if produto in produtos:\n",
        "            indice = produtos.index(produto)\n",
        "            producao_realizada = int(input(\"Digite a quantidade produzida: \"))\n",
        "            quantidades_produzidas[indice] += producao_realizada\n",
        "            print(f\"Produção do produto '{produto}' atualizada para {quantidades_produzidas[indice]}.\")\n",
        "        else:\n",
        "            print(\"Produto não encontrado.\")\n",
        "\n",
        "    elif opcao == \"3\":\n",
        "        # Gerar Relatório\n",
        "        print(\"\\nRelatório de Produção:\")\n",
        "        print(f\"{'Produto':<15}{'Planejado':<10}{'Produzido':<10}{'Saldo':<10}\")\n",
        "        print(\"-\" * 45)\n",
        "        for i in range(len(produtos)):\n",
        "            saldo = quantidades_planejadas[i] - quantidades_produzidas[i]\n",
        "            print(f\"{produtos[i]:<15}{quantidades_planejadas[i]:<10}{quantidades_produzidas[i]:<10}{saldo:<10}\")\n",
        "        print(\"-\" * 45)\n",
        "\n",
        "    elif opcao == \"4\":\n",
        "        # Sair do programa\n",
        "        print(\"Encerrando o programa PCP. Até mais!\")\n",
        "        break\n",
        "\n",
        "    else:\n",
        "        print(\"Opção inválida. Tente novamente.\")"
      ]
    },
    {
      "cell_type": "code",
      "execution_count": null,
      "metadata": {
        "colab": {
          "background_save": true,
          "base_uri": "https://localhost:8080/"
        },
        "id": "HVEsN_ji4o2i",
        "outputId": "14603470-bb63-4ff7-88f1-43f3e47dd54a"
      },
      "outputs": [
        {
          "name": "stdout",
          "output_type": "stream",
          "text": [
            "\n",
            "Menu PCP:\n",
            "1. Adicionar Produto\n",
            "2. Atualizar Produção\n",
            "3. Gerar Relatório\n",
            "4. Sair\n",
            "\n",
            "Produto 'frasco' adicionado com sucesso!\n",
            "\n",
            "Menu PCP:\n",
            "1. Adicionar Produto\n",
            "2. Atualizar Produção\n",
            "3. Gerar Relatório\n",
            "4. Sair\n",
            "\n",
            "Produção do produto 'frasco' atualizada para 15.\n",
            "\n",
            "Menu PCP:\n",
            "1. Adicionar Produto\n",
            "2. Atualizar Produção\n",
            "3. Gerar Relatório\n",
            "4. Sair\n",
            "\n",
            "\n",
            "Relatório de Produção:\n",
            "Produto        Planejado Produzido Saldo     \n",
            "---------------------------------------------\n",
            "frasco         15        15        0         \n",
            "---------------------------------------------\n",
            "\n",
            "Menu PCP:\n",
            "1. Adicionar Produto\n",
            "2. Atualizar Produção\n",
            "3. Gerar Relatório\n",
            "4. Sair\n",
            "\n",
            "Produto 'tampa' adicionado com sucesso!\n",
            "\n",
            "Menu PCP:\n",
            "1. Adicionar Produto\n",
            "2. Atualizar Produção\n",
            "3. Gerar Relatório\n",
            "4. Sair\n",
            "\n",
            "Produto não encontrado.\n",
            "\n",
            "Menu PCP:\n",
            "1. Adicionar Produto\n",
            "2. Atualizar Produção\n",
            "3. Gerar Relatório\n",
            "4. Sair\n",
            "\n",
            "Produção do produto 'tampa' atualizada para 15.\n",
            "\n",
            "Menu PCP:\n",
            "1. Adicionar Produto\n",
            "2. Atualizar Produção\n",
            "3. Gerar Relatório\n",
            "4. Sair\n",
            "\n",
            "\n",
            "Relatório de Produção:\n",
            "Produto        Planejado Produzido Saldo     \n",
            "---------------------------------------------\n",
            "frasco         15        15        0         \n",
            "tampa          15        15        0         \n",
            "---------------------------------------------\n",
            "\n",
            "Menu PCP:\n",
            "1. Adicionar Produto\n",
            "2. Atualizar Produção\n",
            "3. Gerar Relatório\n",
            "4. Sair\n",
            "\n",
            "Produto 'rótulo' adicionado com sucesso!\n",
            "\n",
            "Menu PCP:\n",
            "1. Adicionar Produto\n",
            "2. Atualizar Produção\n",
            "3. Gerar Relatório\n",
            "4. Sair\n",
            "\n",
            "Produção do produto 'rótulo' atualizada para 50.\n",
            "\n",
            "Menu PCP:\n",
            "1. Adicionar Produto\n",
            "2. Atualizar Produção\n",
            "3. Gerar Relatório\n",
            "4. Sair\n",
            "\n",
            "\n",
            "Relatório de Produção:\n",
            "Produto        Planejado Produzido Saldo     \n",
            "---------------------------------------------\n",
            "frasco         15        15        0         \n",
            "tampa          15        15        0         \n",
            "rótulo         15        50        -35       \n",
            "---------------------------------------------\n",
            "\n",
            "Menu PCP:\n",
            "1. Adicionar Produto\n",
            "2. Atualizar Produção\n",
            "3. Gerar Relatório\n",
            "4. Sair\n",
            "\n"
          ]
        }
      ],
      "source": [
        "def exibir_menu():\n",
        "    print(\"\\nMenu PCP:\")\n",
        "    print(\"1. Adicionar Produto\")\n",
        "    print(\"2. Atualizar Produção\")\n",
        "    print(\"3. Gerar Relatório\")\n",
        "    print(\"4. Sair\")\n",
        "    print()\n",
        "\n",
        "# Lista para armazenar dados da produção\n",
        "produtos = []\n",
        "quantidades_planejadas = []\n",
        "quantidades_produzidas = []\n",
        "\n",
        "while True:\n",
        "    exibir_menu()\n",
        "    opcao = input(\"Escolha uma opção: \")\n",
        "\n",
        "    if opcao == \"1\":\n",
        "        # Adicionar Produto\n",
        "        produto = input(\"Digite o nome do produto: \").strip()\n",
        "        if produto in produtos:  # Verifica se o produto já existe\n",
        "            print(\"Produto já cadastrado.\")\n",
        "        else:\n",
        "            quantidade_planejada = int(input(\"Digite a quantidade planejada: \"))\n",
        "            produtos.append(produto)\n",
        "            quantidades_planejadas.append(quantidade_planejada)\n",
        "            quantidades_produzidas.append(0)  # Inicialmente, nada produzido\n",
        "            print(f\"Produto '{produto}' adicionado com sucesso!\")\n",
        "\n",
        "    elif opcao == \"2\":\n",
        "        # Atualizar Produção\n",
        "        produto = input(\"Digite o nome do produto para atualizar a produção: \").strip()\n",
        "        if produto in produtos:\n",
        "            indice = produtos.index(produto)\n",
        "            producao_realizada = int(input(\"Digite a quantidade produzida: \"))\n",
        "            quantidades_produzidas[indice] += producao_realizada\n",
        "            print(f\"Produção do produto '{produto}' atualizada para {quantidades_produzidas[indice]}.\")\n",
        "        else:\n",
        "            print(\"Produto não encontrado.\")\n",
        "\n",
        "    elif opcao == \"3\": # Este bloco estava desalinhado\n",
        "        # Gerar Relatório\n",
        "        print(\"\\nRelatório de Produção:\")\n",
        "        print(f\"{'Produto':<15}{'Planejado':<10}{'Produzido':<10}{'Saldo':<10}\")\n",
        "        print(\"-\" * 45)\n",
        "        for i in range(len(produtos)):\n",
        "            saldo = quantidades_planejadas[i] - quantidades_produzidas[i]\n",
        "            print(f\"{produtos[i]:<15}{quantidades_planejadas[i]:<10}{quantidades_produzidas[i]:<10}{saldo:<10}\")\n",
        "        print(\"-\" * 45)\n",
        "\n",
        "    elif opcao == \"4\":\n",
        "        # Sair do programa\n",
        "        print(\"Encerrando o programa PCP. Até mais!\")\n",
        "        break\n",
        "\n",
        "    else:\n",
        "        print(\"Opção inválida. Tente novamente.\")"
      ]
    },
    {
      "cell_type": "code",
      "source": [
        "import sqlite3\n",
        "\n",
        "# Função para conectar ao banco de dados (cria se não existir)\n",
        "def conectar_banco():\n",
        "    conexao = sqlite3.connect('sistema.db')\n",
        "    return conexao\n",
        "\n",
        "# Função para criar as tabelas (clientes e produção)\n",
        "def criar_tabelas():\n",
        "    conexao = conectar_banco()\n",
        "    cursor = conexao.cursor()\n",
        "    # Tabela de Clientes\n",
        "    cursor.execute('''\n",
        "        CREATE TABLE IF NOT EXISTS clientes (\n",
        "            id INTEGER PRIMARY KEY AUTOINCREMENT,\n",
        "            nome TEXT NOT NULL,\n",
        "            email TEXT NOT NULL,\n",
        "            idade INTEGER\n",
        "        )\n",
        "    ''')\n",
        "    # Tabela de Produtos\n",
        "    cursor.execute('''\n",
        "        CREATE TABLE IF NOT EXISTS produtos (\n",
        "            id INTEGER PRIMARY KEY AUTOINCREMENT,\n",
        "            nome TEXT NOT NULL,\n",
        "            quantidade_planejada INTEGER NOT NULL,\n",
        "            quantidade_produzida INTEGER NOT NULL\n",
        "        )\n",
        "    ''')\n",
        "    conexao.commit()\n",
        "    conexao.close()\n",
        "\n",
        "# Funções para gerenciamento de clientes\n",
        "def inserir_cliente(nome, email, idade):\n",
        "    conexao = conectar_banco()\n",
        "    cursor = conexao.cursor()\n",
        "    cursor.execute('''\n",
        "        INSERT INTO clientes (nome, email, idade) VALUES (?, ?, ?)\n",
        "    ''', (nome, email, idade))\n",
        "    conexao.commit()\n",
        "    conexao.close()\n",
        "    print(f'Cliente {nome} inserido com sucesso!')\n",
        "\n",
        "def listar_clientes():\n",
        "    conexao = conectar_banco()\n",
        "    cursor = conexao.cursor()\n",
        "    cursor.execute('SELECT * FROM clientes')\n",
        "    clientes = cursor.fetchall()\n",
        "    conexao.close()\n",
        "\n",
        "    if clientes:\n",
        "        for cliente in clientes:\n",
        "            print(f'ID: {cliente[0]}, Nome: {cliente[1]}, Email: {cliente[2]}, Idade: {cliente[3]}')\n",
        "    else:\n",
        "        print(\"Nenhum cliente encontrado.\")\n",
        "\n",
        "def atualizar_cliente(id_cliente, nome, email, idade):\n",
        "    conexao = conectar_banco()\n",
        "    cursor = conexao.cursor()\n",
        "    cursor.execute('''\n",
        "        UPDATE clientes\n",
        "        SET nome = ?, email = ?, idade = ?\n",
        "        WHERE id = ?\n",
        "    ''', (nome, email, idade, id_cliente))\n",
        "    conexao.commit()\n",
        "    conexao.close()\n",
        "    print(f'Cliente com ID {id_cliente} atualizado com sucesso!')\n",
        "\n",
        "def deletar_cliente(id_cliente):\n",
        "    conexao = conectar_banco()\n",
        "    cursor = conexao.cursor()\n",
        "    cursor.execute('''\n",
        "        DELETE FROM clientes WHERE id = ?\n",
        "    ''', (id_cliente,))\n",
        "    conexao.commit()\n",
        "    conexao.close()\n",
        "    print(f'Cliente com ID {id_cliente} deletado com sucesso!')\n",
        "\n",
        "# Funções para gerenciamento de produção\n",
        "def adicionar_produto(nome, quantidade_planejada):\n",
        "    conexao = conectar_banco()\n",
        "    cursor = conexao.cursor()\n",
        "    cursor.execute('''\n",
        "        INSERT INTO produtos (nome, quantidade_planejada, quantidade_produzida) VALUES (?, ?, ?)\n",
        "    ''', (nome, quantidade_planejada, 0))\n",
        "    conexao.commit()\n",
        "    conexao.close()\n",
        "    print(f'Produto \"{nome}\" adicionado com sucesso!')\n",
        "\n",
        "def atualizar_producao(nome, quantidade_produzida):\n",
        "    conexao = conectar_banco()\n",
        "    cursor = conexao.cursor()\n",
        "    cursor.execute('''\n",
        "        UPDATE produtos\n",
        "        SET quantidade_produzida = quantidade_produzida + ?\n",
        "        WHERE nome = ?\n",
        "    ''', (quantidade_produzida, nome))\n",
        "    conexao.commit()\n",
        "    conexao.close()\n",
        "    print(f'Produção do produto \"{nome}\" atualizada.')\n",
        "\n",
        "def gerar_relatorio():\n",
        "    conexao = conectar_banco()\n",
        "    cursor = conexao.cursor()\n",
        "    cursor.execute('SELECT nome, quantidade_planejada, quantidade_produzida FROM produtos')\n",
        "    produtos = cursor.fetchall()\n",
        "    conexao.close()\n",
        "\n",
        "    print(\"\\nRelatório de Produção:\")\n",
        "    print(f\"{'Produto':<20}{'Planejado':<10}{'Produzido':<10}{'Saldo':<10}\")\n",
        "    print(\"-\" * 50)\n",
        "    for produto in produtos:\n",
        "        saldo = produto[1] - produto[2]\n",
        "        print(f\"{produto[0]:<20}{produto[1]:<10}{produto[2]:<10}{saldo:<10}\")\n",
        "    print(\"-\" * 50)\n",
        "\n",
        "# Função principal para interagir com o usuário\n",
        "def exibir_menu():\n",
        "    print(\"\\nMenu:\")\n",
        "    print(\"1. Inserir Cliente\")\n",
        "    print(\"2. Listar Clientes\")\n",
        "    print(\"3. Atualizar Cliente\")\n",
        "    print(\"4. Deletar Cliente\")\n",
        "    print(\"5. Adicionar Produto\")\n",
        "    print(\"6. Atualizar Produção\")\n",
        "    print(\"7. Gerar Relatório\")\n",
        "    print(\"8. Sair\")\n",
        "\n",
        "def main():\n",
        "    criar_tabelas()\n",
        "\n",
        "    while True:\n",
        "        exibir_menu()\n",
        "        opcao = input(\"Escolha uma opção: \")\n",
        "\n",
        "        if opcao == \"1\":\n",
        "            nome = input(\"Digite o nome do cliente: \")\n",
        "            email = input(\"Digite o email do cliente: \")\n",
        "            idade = int(input(\"Digite a idade do cliente: \"))\n",
        "            inserir_cliente(nome, email, idade)\n",
        "\n",
        "        elif opcao == \"2\":\n",
        "            listar_clientes()\n",
        "\n",
        "        elif opcao == \"3\":\n",
        "            id_cliente = int(input(\"Digite o ID do cliente a ser atualizado: \"))\n",
        "            nome = input(\"Digite o novo nome do cliente: \")\n",
        "            email = input(\"Digite o novo email do cliente: \")\n",
        "            idade = int(input(\"Digite a nova idade do cliente: \"))\n",
        "            atualizar_cliente(id_cliente, nome, email, idade)\n",
        "\n",
        "        elif opcao == \"4\":\n",
        "            id_cliente = int(input(\"Digite o ID do cliente a ser deletado: \"))\n",
        "            deletar_cliente(id_cliente)\n",
        "\n",
        "        elif opcao == \"5\":\n",
        "            produto = input(\"Digite o nome do produto: \")\n",
        "            quantidade_planejada = int(input(\"Digite a quantidade planejada: \"))\n",
        "            adicionar_produto(produto, quantidade_planejada)\n",
        "\n",
        "        elif opcao == \"6\":\n",
        "            produto = input(\"Digite o nome do produto para atualizar a produção: \")\n",
        "            quantidade_produzida = int(input(\"Digite a quantidade produzida: \"))\n",
        "            atualizar_producao(produto, quantidade_produzida)\n",
        "\n",
        "        elif opcao == \"7\":\n",
        "            gerar_relatorio()\n",
        "\n",
        "        elif opcao == \"8\":\n",
        "            print(\"Saindo...\")\n",
        "            break\n",
        "\n",
        "        else:\n",
        "            print(\"Opção inválida! Tente novamente.\")\n",
        "\n",
        "if __name__ == '__main__':\n",
        "    main()\n"
      ],
      "metadata": {
        "id": "V8tWT_CZHTXi"
      },
      "execution_count": null,
      "outputs": []
    }
  ],
  "metadata": {
    "colab": {
      "provenance": [],
      "authorship_tag": "ABX9TyObFlFDqfdZxOOjU6nN5xON",
      "include_colab_link": true
    },
    "kernelspec": {
      "display_name": "Python 3",
      "name": "python3"
    },
    "language_info": {
      "name": "python"
    }
  },
  "nbformat": 4,
  "nbformat_minor": 0
}