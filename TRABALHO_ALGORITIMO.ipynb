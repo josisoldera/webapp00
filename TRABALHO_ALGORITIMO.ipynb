{
  "nbformat": 4,
  "nbformat_minor": 0,
  "metadata": {
    "colab": {
      "provenance": [],
      "authorship_tag": "ABX9TyMWUh9sD/rVgPFs00zNSJQt",
      "include_colab_link": true
    },
    "kernelspec": {
      "name": "python3",
      "display_name": "Python 3"
    },
    "language_info": {
      "name": "python"
    }
  },
  "cells": [
    {
      "cell_type": "markdown",
      "metadata": {
        "id": "view-in-github",
        "colab_type": "text"
      },
      "source": [
        "<a href=\"https://colab.research.google.com/github/josisoldera/webapp00/blob/main/TRABALHO_ALGORITIMO.ipynb\" target=\"_parent\"><img src=\"https://colab.research.google.com/assets/colab-badge.svg\" alt=\"Open In Colab\"/></a>"
      ]
    },
    {
      "cell_type": "code",
      "execution_count": null,
      "metadata": {
        "colab": {
          "base_uri": "https://localhost:8080/"
        },
        "id": "G4kSz1Ln-THN",
        "outputId": "ca3bca4b-586d-4e27-c156-12860f4d374d"
      },
      "outputs": [
        {
          "output_type": "stream",
          "name": "stdout",
          "text": [
            "\n",
            "Menu PCP:\n",
            "1. Adicionar Produto\n",
            "2. Atualizar Produção\n",
            "3. Gerar Relatório\n",
            "4. Sair\n",
            "\n"
          ]
        }
      ],
      "source": [
        "def exibir_menu():\n",
        "    print(\"\\nMenu PCP:\")\n",
        "    print(\"1. Adicionar Produto\")\n",
        "    print(\"2. Atualizar Produção\")\n",
        "    print(\"3. Gerar Relatório\")\n",
        "    print(\"4. Sair\")\n",
        "    print()\n",
        "\n",
        "# Lista para armazenar dados da produção\n",
        "produtos = []\n",
        "quantidades_planejadas = []\n",
        "quantidades_produzidas = []\n",
        "\n",
        "while True:\n",
        "    exibir_menu()\n",
        "    opcao = input(\"Escolha uma opção: \")\n",
        "\n",
        "    if opcao == \"1\":\n",
        "        # Adicionar Produto\n",
        "        produto = input(\"Digite o nome do produto: \").strip()\n",
        "        if produto in produtos:  # Verifica se o produto já existe\n",
        "            print(\"Produto já cadastrado.\")\n",
        "        else:\n",
        "            quantidade_planejada = int(input(\"Digite a quantidade planejada: \"))\n",
        "            produtos.append(produto)\n",
        "            quantidades_planejadas.append(quantidade_planejada)\n",
        "            quantidades_produzidas.append(0)  # Inicialmente, nada produzido\n",
        "            print(f\"Produto '{produto}' adicionado com sucesso!\")\n",
        "\n",
        "    elif opcao == \"2\":\n",
        "        # Atualizar Produção\n",
        "        produto = input(\"Digite o nome do produto para atualizar a produção: \").strip()\n",
        "        if produto in produtos:\n",
        "            indice = produtos.index(produto)\n",
        "            producao_realizada = int(input(\"Digite a quantidade produzida: \"))\n",
        "            quantidades_produzidas[indice] += producao_realizada\n",
        "            print(f\"Produção do produto '{produto}' atualizada para {quantidades_produzidas[indice]}.\")\n",
        "        else:\n",
        "            print(\"Produto não encontrado.\")\n",
        "\n",
        "    elif opcao == \"3\": # Este bloco estava desalinhado\n",
        "        # Gerar Relatório\n",
        "        print(\"\\nRelatório de Produção:\")\n",
        "        print(f\"{'Produto':<15}{'Planejado':<10}{'Produzido':<10}{'Saldo':<10}\")\n",
        "        print(\"-\" * 45)\n",
        "        for i in range(len(produtos)):\n",
        "            saldo = quantidades_planejadas[i] - quantidades_produzidas[i]\n",
        "            print(f\"{produtos[i]:<15}{quantidades_planejadas[i]:<10}{quantidades_produzidas[i]:<10}{saldo:<10}\")\n",
        "        print(\"-\" * 45)\n",
        "\n",
        "    elif opcao == \"4\":\n",
        "        # Sair do programa\n",
        "        print(\"Encerrando o programa PCP. Até mais!\")\n",
        "        break\n",
        "\n",
        "    else:\n",
        "        print(\"Opção inválida. Tente novamente.\")"
      ]
    }
  ]
}