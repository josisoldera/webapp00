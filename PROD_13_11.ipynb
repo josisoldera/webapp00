{
  "nbformat": 4,
  "nbformat_minor": 0,
  "metadata": {
    "colab": {
      "provenance": [],
      "authorship_tag": "ABX9TyMFlYTKfNl7bz7TsnCDdIcb",
      "include_colab_link": true
    },
    "kernelspec": {
      "name": "python3",
      "display_name": "Python 3"
    },
    "language_info": {
      "name": "python"
    }
  },
  "cells": [
    {
      "cell_type": "markdown",
      "metadata": {
        "id": "view-in-github",
        "colab_type": "text"
      },
      "source": [
        "<a href=\"https://colab.research.google.com/github/josisoldera/webapp00/blob/main/PROD_13_11.ipynb\" target=\"_parent\"><img src=\"https://colab.research.google.com/assets/colab-badge.svg\" alt=\"Open In Colab\"/></a>"
      ]
    },
    {
      "cell_type": "markdown",
      "source": [
        "1 abrir notebook colab\n",
        "2 clicar na pasta ao lado esquerdo\n",
        "3 novo arquivo (minhas funcões.py)\n",
        "4 escrever def area triangulo (b,h) e return b*h/2\n",
        "5 para usar from minhas funções import*\n"
      ],
      "metadata": {
        "id": "eNVZEe2_oaMA"
      }
    },
    {
      "cell_type": "code",
      "execution_count": null,
      "metadata": {
        "id": "ezmAqG6EnejC"
      },
      "outputs": [],
      "source": [
        "from MinhasFuncoes import *"
      ]
    },
    {
      "cell_type": "code",
      "source": [
        "b= float(input(\"digite a base: \"))\n",
        "h= float(input(\"digite a altura: \"))\n",
        "a= areatriangulo(b,h)\n",
        "print(\"areatriangulo = \",a)"
      ],
      "metadata": {
        "colab": {
          "base_uri": "https://localhost:8080/"
        },
        "id": "Pgd5VekTrGsc",
        "outputId": "3d1fe73a-e269-4014-e480-96cf6295506f"
      },
      "execution_count": 17,
      "outputs": [
        {
          "output_type": "stream",
          "name": "stdout",
          "text": [
            "digite a base: 5\n",
            "digite a altura: 2\n",
            "areatriangulo =  5.0\n"
          ]
        }
      ]
    },
    {
      "cell_type": "code",
      "source": [
        "from minhasfuncoes2 import*"
      ],
      "metadata": {
        "id": "v_XPH9Hxw_sx"
      },
      "execution_count": 32,
      "outputs": []
    },
    {
      "cell_type": "code",
      "source": [
        "media=float(input(\"valor a\"))\n",
        "media=float(input(\"valor b\"))\n",
        "print(media)"
      ],
      "metadata": {
        "colab": {
          "base_uri": "https://localhost:8080/"
        },
        "id": "P3yk4ihvxLVi",
        "outputId": "2c585d70-a924-4aa0-98d4-4e226450b2c5"
      },
      "execution_count": 34,
      "outputs": [
        {
          "output_type": "stream",
          "name": "stdout",
          "text": [
            "valor a7\n",
            "valor b8\n",
            "8.0\n"
          ]
        }
      ]
    }
  ]
}